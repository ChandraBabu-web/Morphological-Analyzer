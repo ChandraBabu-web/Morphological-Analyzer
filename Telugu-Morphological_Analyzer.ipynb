{
  "nbformat": 4,
  "nbformat_minor": 0,
  "metadata": {
    "colab": {
      "provenance": [],
      "collapsed_sections": []
    },
    "kernelspec": {
      "name": "python3",
      "display_name": "Python 3"
    },
    "language_info": {
      "name": "python"
    }
  },
  "cells": [
    {
      "cell_type": "code",
      "execution_count": null,
      "metadata": {
        "colab": {
          "base_uri": "https://localhost:8080/"
        },
        "id": "w5Zu2WSisp0D",
        "outputId": "10b4415f-cfed-40da-a372-d3fd4f3d039b"
      },
      "outputs": [
        {
          "output_type": "stream",
          "name": "stdout",
          "text": [
            "Mounted at /content/drive\n"
          ]
        }
      ],
      "source": [
        "#Name: D. Chandra Babu\n",
        "#Reg.no:18ihmt15\n",
        "from google.colab import drive\n",
        "drive.mount('/content/drive')"
      ]
    },
    {
      "cell_type": "code",
      "source": [
        "#chandu\n",
        "import re\n",
        "import sys\n",
        "with open(\"/content/drive/My Drive/chandu/cl/telugu/Telsuff.txt\") as sf:\n",
        "  suffixes=sf.read().split(\"\\n\")\n",
        "print(suffixes)\n",
        "with open(\"/content/drive/My Drive/chandu/cl/telugu/Telbase.txt\") as bs:\n",
        "  bases=bs.read().split(\"\\n\")\n",
        "#print(bases)\n",
        "with open(\"/content/drive/My Drive/chandu/cl/telugu/Telroot.txt\") as rt:\n",
        "  roots=rt.read().split(\"\\n\")\n",
        "  #print(roots)\n",
        "#print(roots)\n",
        "# base.txt is converted as ’dictionary’ variable with key and value, Key is the base form a nd the value is the root form\n",
        "#base=https://drive.google.com/file/d/19ZyjXh_6247x2gs1aUb7HDELmaghX96E/view?usp=sharing\n",
        "#suffix=https://drive.google.com/file/d/1DsYS7KZe7S3vJhLQhwqVNOlYTZCEZPR-/view?usp=sharing\n",
        "#root=https://drive.google.com/file/d/1mQFc8aaZyD3TufJSYjPcluQlkwKvnJYu/view?usp=sharing\n",
        "base_dict={}\n",
        "for base in bases:\n",
        "  if (base != \"\"):\n",
        "    base=base.split(\",\")\n",
        "    base_dict[base[1]] = base[0]\n",
        "print (base_dict)\n",
        "\n",
        "\n",
        "# root.txt is converted as ’dictionary’ variable with key and value, Key is the root forma nd the value is given as 1\n",
        "\n",
        "root_dict={}\n",
        "for root in roots:\n",
        "  if (root != \"\"):\n",
        "    root_dict[root] = 1\n",
        "\n",
        "print (root_dict)\n",
        "plural=input(\"Enter the plural noun: \")\n",
        "# The function \"morph_anal\" is built with the following logic\n",
        "#1. The ending of input word is matched with the suff.txteng-analyzer-sample.py Thu May 06 09:07:56 2021 2\n",
        "#2. If found, the suffix is chopped and the remaining portion is called as base #3. Thebase is matched with base_hash, if it is available, the value (i.e. root) is id entified\n",
        "#4. The identified root is matched with root_hash for its validity, if it is available,then root and suffix are returned.\n",
        "def morph_anal(plural):\n",
        "  for suffix in suffixes:\n",
        "    if(re.search(suffix+'$',plural)):\n",
        "      base=re.sub(suffix+'$',\"\",plural)\n",
        "      if base in base_dict:\n",
        "        root=base_dict[base]\n",
        "        if root in root_dict:\n",
        "          return root, suffix\n",
        "        else:\n",
        "          return \"not found in base_dict\"\n",
        "    else:\n",
        "      return \"not found in root_dict\"\n",
        "\n",
        "\n",
        "\n",
        "while(plural):\n",
        "  singular=morph_anal(plural)\n",
        "  print(\"The composition of\",plural,\"is\",singular)\n",
        "  choice= input(\"Do you want to continue [Y|N]: \")\n",
        "  if(choice == \"Y\"):\n",
        "    plural=input(\"Enter the plural noun: \")\n",
        "  else:\n",
        "    break"
      ],
      "metadata": {
        "colab": {
          "base_uri": "https://localhost:8080/"
        },
        "id": "7EsGhOqIsvH7",
        "outputId": "2d89d2fc-1ea6-4e5e-b77f-83bd14eabc65"
      },
      "execution_count": null,
      "outputs": [
        {
          "output_type": "stream",
          "name": "stdout",
          "text": [
            "['లు', '', 'ళ్ళు', 'తులు', 'చులు', 'ల్లు', 'రు', 'డ్లు', '']\n",
            "{'కలం': 'కలం', 'అబ్బాయి': 'అబ్బాయి', 'అమ్మాయి': 'అమ్మాయి', 'బొమ్మ': 'బొమ్మ', 'కలము': 'కలం', 'పుస్తకము': 'పుస్తకం', 'కుర్చీ': 'కుర్చీ', 'బల': 'బల', 'కత్తు': 'కత్తి', 'నీరు': 'నీరు', 'బియ్యం': 'బియ్యం', 'మనిసు': 'మనిషి', 'మానవు': 'మానవుడు', 'ద్వనీ': 'ద్వని', 'భవన': 'భవనం', 'కిటికీ': 'కిటికి', 'కా': 'కాలు', 'చే': 'చేయి', 'కన్ను': 'కన్ను', 'సం': 'సంచి', 'ముత': 'ముత', 'రాక్షసు': 'రాక్షసుడు', 'బాణా': 'బాణం', 'రోజు': 'రోజు', 'వార': 'వారం', 'నెల': 'నెల', 'స్నేహితు': 'స్నేహితుడు', 'పక్షు': 'పక్షి', 'జంతువు': 'జంతువు', 'చేప': 'చేప', 'గదు': 'గది', 'తిమింగలాల': 'తిమింగలం', 'ఖడ్గము': 'ఖడ్గం', 'మార్గము': 'మార్గం', 'అవతారము': 'అవతారం', 'రాష్ట్రము': 'రాష్ట్రం', 'దేశము': 'దేశం', 'చెట్లు': 'చెట్టు', 'అక్కు': 'అక్కు', 'మెట్లు': 'మెట్టు', 'వాకి': 'వాకిలి', 'దారు': 'దారి', 'అంకె': 'అంకె', 'ఆలోచన': 'ఆలోచన', 'బాలు': 'బాలుడు', 'బాలికా': 'బాలిక', 'భార్య': 'భార్య', 'భర్త': 'భర్త', 'దేవు': 'దేవుడు', 'దేవత': 'దేవత', 'పెళ్లి': 'పెళ్లి', 'తమ్ము': 'తమ్ముడు', 'అన్న': 'అన్న', 'అక్క': 'అక్క', 'చెల్లె': 'చెల్లి', 'బావ': 'బావ', 'మరదం': 'మరదలు', 'ఉంగరా': 'ఉంగరం', 'ఉదహరణ': 'ఉదాహరణ', 'పంకా': 'పంక', 'నల్ల': 'నల్ల', 'పుట': 'పుట', 'పాము': 'పాము', 'కాగితా': 'కాగితం', 'కథ': 'కథ', 'కారం': 'కరం', 'అక్షరా': 'అక్షరం', 'వాహనా': 'వాహనం', 'గాలి ': 'గాలి', 'గ్రహా': 'గ్రహం', 'నక్షత్రా': 'నక్షత్రం', 'కుటుంబా': 'కుటుంబం', 'బ': 'బడ్డి', 'కళాశాల': 'కళాశాల', 'విద్యాలయము': 'విద్యాలయం', 'పట్టణా': 'పట్టణం', 'గ్రామా': 'గ్రామం', 'కొమ్మ': 'కొమ్మ', 'విత్తనా': 'విత్తనం', 'ఉద్యోగా': 'ఉద్యోగం', 'పోలీసు': 'పోలీస్', 'ఆటగా': 'ఆటగాడు', 'దీవెన': 'దీవెన', 'వసతు': 'వసతి', 'రంగు': 'రంగు', 'బంతు': 'బంతి', 'చెమంతు': 'చామంతి', 'ముద్దు': 'ముద్దు', 'రామలయా': 'రామాలయం', 'ఇల్లు': 'ఇల్లు', 'మాట': 'మాట', 'మతా': 'మతం', 'జాతు': 'జాతి', 'చందమామ': 'చందమామ', 'నాయకు': 'నాయకుడు', 'విద్యార్థు': 'విద్యార్ధు', 'ఉపాధ్యాయు': 'ఉపాధ్యాయుడు', 'వృత్తు': 'వృత్తి', 'కర్త': 'కర్త', 'రచన': 'రచన', 'కావ్యా': 'కావ్యం', 'రచయిత': 'రచయిత'}\n",
            "{'కలం': 1, 'అబ్బాయి': 1, 'అమ్మాయి': 1, 'బొమ్మ': 1, 'పుస్తకం': 1, 'కుర్చీ': 1, 'బల': 1, 'కత్తి': 1, 'నీరు': 1, 'బియ్యం': 1, 'మనిషి': 1, 'మానవుడు': 1, 'ద్వని': 1, 'భవనం': 1, 'కిటికి': 1, 'కాలు': 1, 'చేయి': 1, 'కన్ను': 1, 'సంచి': 1, 'ముత': 1, 'రాక్షసుడు': 1, 'బాణం': 1, 'రోజు': 1, 'వారం': 1, 'నెల': 1, 'స్నేహితుడు': 1, 'పక్షి': 1, 'జంతువు': 1, 'చేప': 1, 'గది': 1, 'తిమింగలం': 1, 'ఖడ్గం': 1, 'మార్గం': 1, 'అవతారం': 1, 'రాష్ట్రం': 1, 'దేశం': 1, 'చెట్టు': 1, 'అక్కు': 1, 'మెట్టు': 1, 'వాకిలి': 1, 'దారి': 1, 'అంకె': 1, 'ఆలోచన': 1, 'బాలుడు': 1, 'బాలిక': 1, 'భార్య': 1, 'భర్త': 1, 'దేవుడు': 1, 'దేవత': 1, 'పెళ్లి': 1, 'తమ్ముడు': 1, 'అన్న': 1, 'అక్క ': 1, 'చెల్లి': 1, 'బావ': 1, 'మరదలు': 1, 'ఉంగరం': 1, 'ఉదాహరణ': 1, 'పంక': 1, 'నల్ల': 1, 'పుట': 1, 'పాము': 1, 'కాగితం': 1, 'కథ': 1, 'కరం': 1, 'అక్షరం': 1, 'వాహనం': 1, 'గాలి': 1, 'గ్రహం': 1, 'నక్షత్రం': 1, 'కుటుంబం': 1, 'బడ్డి': 1, 'కళాశాల': 1, 'విద్యాలయం': 1, 'పట్టణం': 1, 'గ్రామం': 1, 'కొమ్మ': 1, 'విత్తనం': 1, 'ఉద్యోగం': 1, 'పోలీస్': 1, 'ఆటగాడు': 1, 'దీవెన': 1, 'వసతి': 1, 'రంగు': 1, 'బంతి': 1, 'చామంతి': 1, 'ముద్దు': 1, 'రామాలయం': 1, 'ఇల్లు': 1, 'మాట': 1, 'మతం': 1, 'జాతి': 1, 'చందమామ': 1, 'నాయకుడు': 1, 'విద్యార్ధు': 1, 'ఉపాధ్యాయుడు': 1, 'వృత్తి': 1, 'కర్త': 1, 'రచన': 1, 'కావ్యం': 1, 'రచయిత': 1}\n",
            "Enter the plural noun: కుర్చీలు\n",
            "The composition of కుర్చీలు is ('కుర్చీ', 'లు')\n",
            "Do you want to continue [Y|N]: Y\n",
            "Enter the plural noun: బొమ్మలు \n",
            "The composition of బొమ్మలు  is not found in root_dict\n",
            "Do you want to continue [Y|N]: Y\n",
            "Enter the plural noun: బొమ్మలు\n",
            "The composition of బొమ్మలు is ('బొమ్మ', 'లు')\n"
          ]
        }
      ]
    }
  ]
}
