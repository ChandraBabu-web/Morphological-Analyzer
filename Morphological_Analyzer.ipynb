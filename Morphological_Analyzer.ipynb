{
  "nbformat": 4,
  "nbformat_minor": 0,
  "metadata": {
    "colab": {
      "provenance": []
    },
    "kernelspec": {
      "name": "python3",
      "display_name": "Python 3"
    },
    "language_info": {
      "name": "python"
    }
  },
  "cells": [
    {
      "cell_type": "code",
      "execution_count": 1,
      "metadata": {
        "colab": {
          "base_uri": "https://localhost:8080/"
        },
        "id": "w5Zu2WSisp0D",
        "outputId": "452d19fe-9b9e-4d64-c4ff-e0587443c7b2"
      },
      "outputs": [
        {
          "output_type": "stream",
          "name": "stdout",
          "text": [
            "Mounted at /content/drive\n"
          ]
        }
      ],
      "source": [
        "#Name: D. Chandra Babu\n",
        "#Reg.no:18ihmt15\n",
        "from google.colab import drive\n",
        "drive.mount('/content/drive')"
      ]
    },
    {
      "cell_type": "code",
      "source": [
        "#chandu\n",
        "import re\n",
        "import sys\n",
        "with open(\"/content/drive/My Drive/chandu/cl/telugu/Telsuff.txt\") as sf:\n",
        "  suffixes=sf.read().split(\"\\n\")\n",
        "print(suffixes)\n",
        "with open(\"/content/drive/My Drive/chandu/cl/telugu/Telbase.txt\") as bs:\n",
        "  bases=bs.read().split(\"\\n\")\n",
        "print(bases)\n",
        "with open(\"/content/drive/My Drive/chandu/cl/telugu/Telroot.txt\") as rt:\n",
        "  roots=rt.read().split(\"\\n\")\n",
        "  print(roots)\n",
        "#print(roots)\n",
        "# base.txt is converted as ’dictionary’ variable with key and value, Key is the base form a nd the value is the root form\n",
        "#base=https://drive.google.com/file/d/19ZyjXh_6247x2gs1aUb7HDELmaghX96E/view?usp=sharing\n",
        "#suffix=https://drive.google.com/file/d/1DsYS7KZe7S3vJhLQhwqVNOlYTZCEZPR-/view?usp=sharing\n",
        "#root=https://drive.google.com/file/d/1mQFc8aaZyD3TufJSYjPcluQlkwKvnJYu/view?usp=sharing\n"
      ],
      "metadata": {
        "colab": {
          "base_uri": "https://localhost:8080/"
        },
        "id": "7EsGhOqIsvH7",
        "outputId": "f34bc11f-8bac-4324-874b-5d912a69a0e8"
      },
      "execution_count": 4,
      "outputs": [
        {
          "output_type": "stream",
          "name": "stdout",
          "text": [
            "['లు', '', 'ళ్ళు', 'తులు', 'చులు', 'ల్లు', 'రు', 'డ్లు', '']\n",
            "['కలం,కలం', 'అబ్బాయి,అబ్బాయి', 'అమ్మాయి,అమ్మాయి', 'బొమ్మ,బొమ్మ', 'కలం,కలము', 'పుస్తకం,పుస్తకము', 'కుర్చీ,కుర్చీ', 'బల,బల', 'కత్తి,కత్తు', 'నీరు,నీరు', 'బియ్యం,బియ్యం', 'మనిషి,మనిసు', 'మానవుడు,మానవు', 'ద్వని,ద్వనీ', 'భవనం,భవన', 'కిటికి,కిటికీ', 'కాలు,కా', 'చేయి,చే', 'కన్ను,కన్ను', 'సంచి,సం', 'ముత,ముత', 'రాక్షసుడు,రాక్షసు', 'బాణం,బాణా', 'రోజు,రోజు', 'వారం,వార', 'నెల,నెల', 'స్నేహితుడు,స్నేహితు', 'పక్షి,పక్షు', 'జంతువు,జంతువు', 'చేప,చేప', 'గది,గదు', 'తిమింగలం,తిమింగలాల', 'ఖడ్గం,ఖడ్గము', 'మార్గం,మార్గము', 'అవతారం,అవతారము', 'రాష్ట్రం,రాష్ట్రము', 'దేశం,దేశము', 'చెట్టు,చెట్లు', 'అక్కు,అక్కు', 'మెట్టు,మెట్లు', 'వాకిలి,వాకి', 'దారి,దారు', 'అంకె,అంకె', 'ఆలోచన,ఆలోచన', 'బాలుడు,బాలు', 'బాలిక,బాలికా', 'భార్య,భార్య', 'భర్త,భర్త', 'దేవుడు,దేవు', 'దేవత,దేవత', 'పెళ్లి,పెళ్లి', 'తమ్ముడు,తమ్ము', 'అన్న,అన్న', 'అక్క,అక్క', 'చెల్లి,చెల్లె', 'బావ,బావ', 'మరదలు,మరదం', 'ఉంగరం,ఉంగరా', 'ఉదాహరణ,ఉదహరణ', 'పంక,పంకా', 'నల్ల,నల్ల', 'పుట,పుట', 'పాము,పాము', 'కాగితం,కాగితా', 'కథ,కథ', 'కరం,కారం', 'అక్షరం,అక్షరా', 'వాహనం,వాహనా', 'గాలి,గాలి ', 'గ్రహం,గ్రహా', 'నక్షత్రం,నక్షత్రా', 'కుటుంబం,కుటుంబా', 'బడ్డి,బ', 'కళాశాల,కళాశాల', 'విద్యాలయం,విద్యాలయము', 'పట్టణం,పట్టణా', 'గ్రామం,గ్రామా', 'కొమ్మ,కొమ్మ', 'విత్తనం,విత్తనా', 'ఉద్యోగం,ఉద్యోగా', 'పోలీస్,పోలీసు', 'ఆటగాడు,ఆటగా', 'దీవెన,దీవెన', 'వసతి,వసతు', 'రంగు,రంగు', 'బంతి,బంతు', 'చామంతి,చెమంతు', 'ముద్దు,ముద్దు', 'రామాలయం,రామలయా', 'ఇల్లు,ఇల్లు', 'మాట,మాట', 'మతం,మతా', 'జాతి,జాతు', 'చందమామ,చందమామ', 'నాయకుడు,నాయకు', 'విద్యార్ధు,విద్యార్థు', 'ఉపాధ్యాయుడు,ఉపాధ్యాయు', 'వృత్తి,వృత్తు', 'కర్త,కర్త', 'రచన,రచన', 'కావ్యం,కావ్యా', 'రచయిత,రచయిత', '', '', '']\n",
            "['కలం', 'అబ్బాయి', 'అమ్మాయి', 'బొమ్మ', 'కలం', 'పుస్తకం', 'కుర్చీ', 'బల', 'కత్తి', 'నీరు', 'బియ్యం', 'మనిషి', 'మానవుడు', 'ద్వని', 'భవనం', 'కిటికి', 'కాలు', 'చేయి', 'కన్ను', 'సంచి', 'ముత', 'రాక్షసుడు', 'బాణం', 'రోజు', 'వారం', 'నెల', 'స్నేహితుడు', 'పక్షి', 'జంతువు', 'చేప', 'గది', 'తిమింగలం', 'ఖడ్గం', 'మార్గం', 'అవతారం', 'రాష్ట్రం', 'దేశం', 'చెట్టు', 'అక్కు', 'మెట్టు', 'వాకిలి', 'దారి', 'అంకె', 'ఆలోచన', 'బాలుడు', 'బాలిక', 'భార్య', 'భర్త', 'దేవుడు', 'దేవత', 'పెళ్లి', 'తమ్ముడు', 'అన్న', 'అక్క ', 'చెల్లి', 'బావ', 'మరదలు', 'ఉంగరం', 'ఉదాహరణ', 'పంక', 'నల్ల', 'పుట', 'పాము', 'కాగితం', 'కథ', 'కరం', 'అక్షరం', 'వాహనం', 'గాలి', 'గ్రహం', 'నక్షత్రం', 'కుటుంబం', 'బడ్డి', 'కళాశాల', 'విద్యాలయం', 'పట్టణం', 'గ్రామం', 'కొమ్మ', 'విత్తనం', 'ఉద్యోగం', 'పోలీస్', 'ఆటగాడు', 'దీవెన', 'వసతి', 'రంగు', 'బంతి', 'చామంతి', 'ముద్దు', 'రామాలయం', 'ఇల్లు', 'మాట', 'మతం', 'జాతి', 'చందమామ', 'నాయకుడు', 'విద్యార్ధు', 'ఉపాధ్యాయుడు', 'వృత్తి', 'కర్త', 'రచన', 'కావ్యం', 'రచయిత', '', '', '', '', '']\n"
          ]
        }
      ]
    },
    {
      "cell_type": "code",
      "source": [
        "base_dict={}\n",
        "for base in bases:\n",
        "  if (base != \"\"):\n",
        "    base=base.split(\",\")\n",
        "    base_dict[base[1]] = base[0]\n",
        "print (base_dict)\n",
        "\n",
        "\n",
        "# root.txt is converted as ’dictionary’ variable with key and value, Key is the root forma nd the value is given as 1\n",
        "\n",
        "#root_dict={}\n",
        "#or root in roots:\n",
        " # if (root != \"\"):\n",
        "   # root_dict[root] = 1\n",
        "\n",
        "#print (root_dict)\n",
        "\n"
      ],
      "metadata": {
        "colab": {
          "base_uri": "https://localhost:8080/"
        },
        "id": "4ODy4t5q1mts",
        "outputId": "6ed2b828-b89c-4bb1-8602-4053a88fa4f5"
      },
      "execution_count": 13,
      "outputs": [
        {
          "output_type": "stream",
          "name": "stdout",
          "text": [
            "{'కలం': 'కలం', 'అబ్బాయి': 'అబ్బాయి', 'అమ్మాయి': 'అమ్మాయి', 'బొమ్మ': 'బొమ్మ', 'కలము': 'కలం', 'పుస్తకము': 'పుస్తకం', 'కుర్చీ': 'కుర్చీ', 'బల': 'బల', 'కత్తు': 'కత్తి', 'నీరు': 'నీరు', 'బియ్యం': 'బియ్యం', 'మనిసు': 'మనిషి', 'మానవు': 'మానవుడు', 'ద్వనీ': 'ద్వని', 'భవన': 'భవనం', 'కిటికీ': 'కిటికి', 'కా': 'కాలు', 'చే': 'చేయి', 'కన్ను': 'కన్ను', 'సం': 'సంచి', 'ముత': 'ముత', 'రాక్షసు': 'రాక్షసుడు', 'బాణా': 'బాణం', 'రోజు': 'రోజు', 'వార': 'వారం', 'నెల': 'నెల', 'స్నేహితు': 'స్నేహితుడు', 'పక్షు': 'పక్షి', 'జంతువు': 'జంతువు', 'చేప': 'చేప', 'గదు': 'గది', 'తిమింగలాల': 'తిమింగలం', 'ఖడ్గము': 'ఖడ్గం', 'మార్గము': 'మార్గం', 'అవతారము': 'అవతారం', 'రాష్ట్రము': 'రాష్ట్రం', 'దేశము': 'దేశం', 'చెట్లు': 'చెట్టు', 'అక్కు': 'అక్కు', 'మెట్లు': 'మెట్టు', 'వాకి': 'వాకిలి', 'దారు': 'దారి', 'అంకె': 'అంకె', 'ఆలోచన': 'ఆలోచన', 'బాలు': 'బాలుడు', 'బాలికా': 'బాలిక', 'భార్య': 'భార్య', 'భర్త': 'భర్త', 'దేవు': 'దేవుడు', 'దేవత': 'దేవత', 'పెళ్లి': 'పెళ్లి', 'తమ్ము': 'తమ్ముడు', 'అన్న': 'అన్న', 'అక్క': 'అక్క', 'చెల్లె': 'చెల్లి', 'బావ': 'బావ', 'మరదం': 'మరదలు', 'ఉంగరా': 'ఉంగరం', 'ఉదహరణ': 'ఉదాహరణ', 'పంకా': 'పంక', 'నల్ల': 'నల్ల', 'పుట': 'పుట', 'పాము': 'పాము', 'కాగితా': 'కాగితం', 'కథ': 'కథ', 'కారం': 'కరం', 'అక్షరా': 'అక్షరం', 'వాహనా': 'వాహనం', 'గాలి ': 'గాలి', 'గ్రహా': 'గ్రహం', 'నక్షత్రా': 'నక్షత్రం', 'కుటుంబా': 'కుటుంబం', 'బ': 'బడ్డి', 'కళాశాల': 'కళాశాల', 'విద్యాలయము': 'విద్యాలయం', 'పట్టణా': 'పట్టణం', 'గ్రామా': 'గ్రామం', 'కొమ్మ': 'కొమ్మ', 'విత్తనా': 'విత్తనం', 'ఉద్యోగా': 'ఉద్యోగం', 'పోలీసు': 'పోలీస్', 'ఆటగా': 'ఆటగాడు', 'దీవెన': 'దీవెన', 'వసతు': 'వసతి', 'రంగు': 'రంగు', 'బంతు': 'బంతి', 'చెమంతు': 'చామంతి', 'ముద్దు': 'ముద్దు', 'రామలయా': 'రామాలయం', 'ఇల్లు': 'ఇల్లు', 'మాట': 'మాట', 'మతా': 'మతం', 'జాతు': 'జాతి', 'చందమామ': 'చందమామ', 'నాయకు': 'నాయకుడు', 'విద్యార్థు': 'విద్యార్ధు', 'ఉపాధ్యాయు': 'ఉపాధ్యాయుడు', 'వృత్తు': 'వృత్తి', 'కర్త': 'కర్త', 'రచన': 'రచన', 'కావ్యా': 'కావ్యం', 'రచయిత': 'రచయిత'}\n"
          ]
        }
      ]
    },
    {
      "cell_type": "code",
      "source": [
        "\n",
        "plural=input(\"Enter the plural noun: \")\n",
        "# The function \"morph_anal\" is built with the following logic\n",
        "#1. The ending of input word is matched with the suff.txt\n",
        "#2. If found, the suffix is chopped and the remaining portion is called as base #3. Thebase is matched with base_hash, if it is available, the value (i.e. root) is id entified\n",
        "#4. The identified root is matched with root_dict for its validity, if it is available,then root and suffix are returned.\n",
        "2\n",
        "def morph_anal(plural):\n",
        "  for suffix in suffixes:\n",
        "\n",
        "\n",
        "    if(re.search(suffix+'$',plural)):       #suffix+'$' is a pattern that matches the suffix only when it appears at the end of the string.\n",
        "      extra_suf1=plural[-2:-1]\n",
        "\n",
        "      base=re.sub(suffix+'$',\"\",plural)      # Removes suffix\n",
        "      print(base)\n",
        "\n",
        "\n",
        "\n",
        "      if base in base_dict:  #The above base word after removing the suffix\n",
        "        print(f\"Base word after removing the suffix:{base}\")\n",
        "        root=base_dict[base] # gets the root word from the base dict value\n",
        "        if root in roots:\n",
        "          extra_suf2=  extra_suf1 if (suffix ==\"\") else suffix  # for words like చెట్లు the suffix will be empty. To overcome this.\n",
        "          return root, extra_suf2\n",
        "\n",
        "        else:\n",
        "          return \"not found in root_dict\"\n",
        "    else:\n",
        "      return \"not found in base_dict\"\n",
        "\n",
        "\n",
        "while(plural):\n",
        "  singular=morph_anal(plural)\n",
        "  print(\"The composition of\",plural,\"is\",singular)\n",
        "  choice= input(\"Do you want to continue [Y|N]: \")\n",
        "  if(choice == \"Y\"):\n",
        "    plural=input(\"Enter the plural noun: \")\n",
        "  else:\n",
        "    break"
      ],
      "metadata": {
        "colab": {
          "base_uri": "https://localhost:8080/"
        },
        "id": "10i1YdCk2PwX",
        "outputId": "79d48c14-5a2b-4f98-9912-ecaedba14bca"
      },
      "execution_count": 36,
      "outputs": [
        {
          "name": "stdout",
          "output_type": "stream",
          "text": [
            "Enter the plural noun: చెట్లు\n",
            "చెట్\n",
            "చెట్లు\n",
            "Base word after removing the suffix:చెట్లు\n",
            "The composition of చెట్లు is ('చెట్టు', 'ల')\n",
            "Do you want to continue [Y|N]: Y\n",
            "Enter the plural noun: కత్తులు\n",
            "కత్తు\n",
            "Base word after removing the suffix:కత్తు\n",
            "The composition of కత్తులు is ('కత్తి', 'లు')\n",
            "Do you want to continue [Y|N]: N\n"
          ]
        }
      ]
    },
    {
      "cell_type": "code",
      "source": [],
      "metadata": {
        "id": "zpxdBnwu-VPA"
      },
      "execution_count": null,
      "outputs": []
    }
  ]
}