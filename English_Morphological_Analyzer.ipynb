{
  "nbformat": 4,
  "nbformat_minor": 0,
  "metadata": {
    "colab": {
      "provenance": [],
      "collapsed_sections": [],
      "toc_visible": true
    },
    "kernelspec": {
      "name": "python3",
      "display_name": "Python 3"
    },
    "language_info": {
      "name": "python"
    }
  },
  "cells": [
    {
      "cell_type": "code",
      "source": [
        "#Name: D. Chandra Babu\n",
        "from google.colab import drive\n",
        "drive.mount('/content/drive')"
      ],
      "metadata": {
        "colab": {
          "base_uri": "https://localhost:8080/"
        },
        "id": "Uupnz63ShA69",
        "outputId": "520c01bf-c003-4f5c-bbf2-aed1e0014b58"
      },
      "execution_count": 1,
      "outputs": [
        {
          "output_type": "stream",
          "name": "stdout",
          "text": [
            "Mounted at /content/drive\n"
          ]
        }
      ]
    },
    {
      "cell_type": "code",
      "source": [],
      "metadata": {
        "id": "r9AY7KWpwf4s"
      },
      "execution_count": 1,
      "outputs": []
    },
    {
      "cell_type": "markdown",
      "source": [
        "# New section"
      ],
      "metadata": {
        "id": "bTJu_VWywggt"
      }
    },
    {
      "cell_type": "code",
      "execution_count": null,
      "metadata": {
        "id": "bFgVwEiYfC4K",
        "colab": {
          "base_uri": "https://localhost:8080/"
        },
        "outputId": "2f604d74-499b-4688-81c0-6a63787806bc"
      },
      "outputs": [
        {
          "output_type": "stream",
          "name": "stdout",
          "text": [
            "{'abiliti': 'ability', 'answer': 'answer', 'access': 'access', 'accident': 'accident', 'account': 'account', 'act': 'act', 'action': 'action', 'activiti': 'activity', 'actor': 'actor', 'addition': 'addition', 'ball': 'ball', 'bedroom': 'bedroom', 'boat': 'boat', 'bodi': 'body', 'child': 'child', 'book': 'book', ' boss': 'boss', 'bus': 'bus', 'business': 'business', 'championship': 'championship', 'chicken': 'chicken', 'chapter': 'chapter', 'class': 'class', 'coffee': 'coffee', 'committee': 'committee', 'communiti': 'community', 'compani': 'company', 'conversation': 'conversation', 'cooki': 'cooky', 'day': 'day', 'deadpool': 'deadpool', 'dealer': 'dealer', 'death': 'death', 'debt': 'debt', 'dog': 'dog', 'dolphin': 'dolphin', 'drama': 'drama', 'drawer': 'drawer', 'driver': 'driver', 'efficienci': 'efficiency', 'effort': 'effort', 'egg': 'egg', 'energi': 'energy', 'engine': 'engine', 'ear': 'ear', 'earth': 'earth', 'economi': 'economy', 'entertainment': 'entertainment', 'enthusiasm': 'enthusiasm', 'entri': 'entry', 'education': 'education', 'environment': 'environment', 'ethiopian': 'ethiopian', 'failure': 'failure', 'famili': 'family', 'farmer': 'farmer', 'fat': 'fat', 'feature': 'feature', 'friendship': 'friendship', 'fun': 'fun', 'funeral': 'funeral', 'aircraft': 'aircraft', 'alga': 'alga', 'alumna': 'alumna', 'analysis': 'analysis', 'antenna': 'antenna', 'appendic': 'appendix', 'bacteria': 'bacterium', 'barracks': 'barracks', 'beau': 'beau', 'belief': 'belief', 'berri': 'berry', 'bison': 'bison', 'board ': 'board', 'bottle': 'bottle', 'box': 'box', 'boi': 'boy', 'bureau': 'bureau', 'cact': 'cactus', 'calv': 'calf', 'chief': 'chief', 'church': 'church', 'cliff': 'cliff', 'concerti': 'concerto', 'corpora': 'corpus', 'crises': 'crisis', 'criteria': 'criterion', 'dat': 'datum', 'deer': 'deer', 'dice': 'die', 'epoch': 'epoch', 'espresso': 'espresso', 'fish': 'fish', 'feet': 'foot', 'formula': 'formula', 'fresco': 'fresco', 'furniture': 'furniture', 'gas': 'gas', 'gateau': 'gateau', 'gene': 'genus', 'glass': 'glass', 'geese ': 'goose', 'graffit': 'graffito', 'hair': 'hair', 'house': 'house', 'human': 'human', 'idea': 'idea', 'indic': 'index', 'knive': 'knife', 'ladder': 'ladder', 'larva': 'larva', 'leav': 'leaf', 'lorry': 'lorry', 'li': 'louse', 'memo': 'memo', 'minutia': 'minutia', 'moose': 'moose', 'mi': 'mouse', 'oas': 'oasis', 'ope': 'opus', 'ox': 'ox', 'pant': 'pant', 'penni': 'penny', 'person': 'person', 'photo': 'photo', 'pizza': 'pizza', 'potato ': 'potato', 'quizz': 'quiz', 'risotto': 'risotto', 'roof': 'roof', 'scissors': 'scissors', 'series': 'series', 'sheep': 'sheep', 'shrimp': 'shrimp', 'sock': 'sock', 'species': 'species', 'spoof': 'spoof', 'stadi': 'stadium', 'stomach': 'stomach', 'swine': 'swine', 'syllab': 'syllabus', 'task': 'task', 'tax': 'tax', 'thesaurus': 'thesaurus', 'thes': 'thesis', 'teeth': 'tooth', 'trousers': 'trousers', 'trout': 'trout', 'tuna': 'tuna', 'vertebra': 'vertebra', 'vita': 'vita', 'volcano': 'volcano', 'watchman': 'watchman', 'wive': 'wife', 'woman': 'woman', 'zero': 'zero', 'radi': 'radius'}\n",
            "{'ability': 1, 'answer': 1, 'access': 1, 'accident': 1, 'account': 1, 'act': 1, 'action': 1, 'activity': 1, 'actor': 1, 'addition': 1, 'ball': 1, 'bedroom': 1, 'boat': 1, 'body': 1, 'bolivia': 1, 'bonus': 1, 'book': 1, 'boss': 1, 'bus': 1, 'business': 1, 'bhampionship': 1, 'chicken': 1, 'chapter': 1, 'class': 1, 'coffee': 1, 'committee': 1, 'community': 1, 'company': 1, 'conversation': 1, 'cooky': 1, 'day': 1, 'deadpool': 1, 'dealer': 1, 'death': 1, 'debt': 1, 'dog': 1, 'dolphins': 1, 'drama': 1, 'drawer': 1, 'driver': 1, 'efficiency': 1, 'effort': 1, 'egg': 1, 'energy': 1, 'engine': 1, 'ear': 1, 'earth': 1, 'economy': 1, 'entertainment': 1, 'enthusiasm': 1, 'entry': 1, 'education': 1, 'environment': 1, 'ethiopian': 1, 'failure': 1, 'family': 1, 'farmer': 1, 'fat': 1, 'feature': 1, 'friendship': 1, 'fun': 1, 'funeral': 1, 'aircraft': 1, 'alga': 1, 'alumna': 1, 'analysis': 1, 'antenna': 1, 'appendix': 1, 'bacterium': 1, 'barracks': 1, 'beau': 1, 'belief': 1, 'berry': 1, 'bison': 1, 'board': 1, 'bottle': 1, 'box': 1, 'boy': 1, 'bureau': 1, 'cactus': 1, 'calf': 1, 'chief': 1, 'child': 1, 'church': 1, 'cliff': 1, 'concerto': 1, 'corpus': 1, 'crisis': 1, 'criterion': 1, 'datum': 1, 'deer': 1, 'die': 1, 'epoch': 1, 'espresso': 1, 'fish': 1, 'foot': 1, 'formula': 1, 'fresco': 1, 'furniture': 1, 'gas': 1, 'gateau': 1, 'genus': 1, 'glass': 1, 'goose': 1, 'graffito': 1, 'hair': 1, 'house': 1, 'human': 1, 'idea': 1, 'index': 1, 'knife': 1, 'ladder': 1, 'larva': 1, 'leaf': 1, 'lorry': 1, 'louse': 1, 'memo': 1, 'minutia': 1, 'moose': 1, 'mouse': 1, 'oasis': 1, 'opus': 1, 'ox': 1, 'pant': 1, 'penny': 1, 'person': 1, 'photo': 1, 'pizza': 1, 'potato': 1, 'quiz': 1, 'risotto': 1, 'roof': 1, 'scissors': 1, 'series': 1, 'sheep': 1, 'shrimp': 1, 'sock': 1, 'species': 1, 'spectacles': 1, 'spoof': 1, 'stadium': 1, 'stomach': 1, 'swine': 1, 'syllabus': 1, 'task': 1, 'tax': 1, 'thesaurus': 1, 'thesis': 1, 'tooth': 1, 'trousers': 1, 'trout': 1, 'tuna': 1, 'vertebra': 1, 'vita': 1, 'volcano': 1, 'watchman': 1, 'wife': 1, 'woman': 1, 'zero': 1, 'radius': 1}\n",
            "Enter the plural noun: answer\n",
            "The composition of answer is ('answer', '')\n",
            "Do you want to continue [Y|N]: Y\n",
            "Enter the plural noun: actions\n",
            "The composition of actions is ('action', 's')\n",
            "Do you want to continue [Y|N]: Y\n",
            "Enter the plural noun: balls\n",
            "The composition of balls is ('ball', 's')\n",
            "Do you want to continue [Y|N]: Y\n",
            "Enter the plural noun: companies\n",
            "The composition of companies is ('company', 'es')\n"
          ]
        }
      ],
      "source": [
        "#chandu\n",
        "import re\n",
        "import sys\n",
        "with open(\"/content/drive/My Drive/chandu/cl/suffi.txt\") as sf:\n",
        "  suffixes=sf.read().split(\"\\n\")\n",
        "#print(suffixes)\n",
        "with open(\"/content/drive/My Drive/chandu/cl/bases3.txt\") as bs:\n",
        "  bases=bs.read().split(\"\\n\")\n",
        "#print(bases)\n",
        "with open(\"/content/drive/My Drive/chandu/cl/root.txt\") as rt:\n",
        "  roots=rt.read().split(\"\\n\")\n",
        "  #print(roots)\n",
        "#print(roots)\n",
        "# base.txt is converted as ’dictionary’ variable with key and value, Key is the base form a nd the value is the root form\n",
        "#base=https://drive.google.com/file/d/1eCCP514xJ67xoET5ubeCGhi2XiHA9Fmv/view?usp=sharing\n",
        "#suffix=https://drive.google.com/file/d/1Dr-tsG3-EO2sqnBmgoRELo7KITK8uklS/view?usp=sharing\n",
        "#root=https://drive.google.com/file/d/1u8PxBTXGC0bkyNMBVRtaYw84NTgx74R-/view?usp=sharing\n",
        "base_dict={}\n",
        "for base in bases:\n",
        "  if (base != \"\"):\n",
        "    base=base.split(\",\")\n",
        "    base_dict[base[1]] = base[0]\n",
        "print (base_dict)\n",
        "\n",
        "\n",
        "# root.txt is converted as ’dictionary’ variable with key and value, Key is the root form and the value is given as 1\n",
        "\n",
        "root_dict={}\n",
        "for root in roots:\n",
        "  if (root != \"\"):\n",
        "    root_dict[root] = 1\n",
        "\n",
        "print (root_dict)\n",
        "plural=input(\"Enter the plural noun: \")\n",
        "# The function \"morph_anal\" is built with the following logic\n",
        "#1. The ending of input word is matched with the suff.txteng-analyzer-sample.py Thu May 06 09:07:56 2021 2\n",
        "#2. If found, the suffix is chopped and the remaining portion is called as base #3. Thebase is matched with base_hash, if it is available, the value (i.e. root) is id entified\n",
        "#4. The identified root is matched with root_hash for its validity, if it is available,then root and suffix are returned.\n",
        "def morph_anal(plural):\n",
        "  for suffix in suffixes:\n",
        "    if(re.search(suffix+'$',plural)):\n",
        "      base=re.sub(suffix+'$',\"\",plural)\n",
        "      if base in base_dict:\n",
        "        root=base_dict[base]\n",
        "        if root in root_dict:\n",
        "          return root, suffix\n",
        "        else:\n",
        "          return \"not found in base_dict\"\n",
        "  else:\n",
        "    return \"not found in root_dict\"\n",
        "\n",
        "\n",
        "\n",
        "while(plural):\n",
        "  singular=morph_anal(plural)\n",
        "  print(\"The composition of\",plural,\"is\",singular)\n",
        "  choice= input(\"Do you want to continue [Y|N]: \")\n",
        "  if(choice == \"Y\"):\n",
        "    plural=input(\"Enter the plural noun: \")\n",
        "  else:\n",
        "    break"
      ]
    }
  ]
}
